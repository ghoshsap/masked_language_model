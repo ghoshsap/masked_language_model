{
 "cells": [
  {
   "cell_type": "code",
   "execution_count": 1,
   "id": "546e0c8a-0463-4329-822d-3d7085e5d425",
   "metadata": {},
   "outputs": [],
   "source": [
    "import sys\n",
    "import os\n",
    "pwd = os.getcwd()\n",
    "sys.path.append(f'{pwd}')\n",
    "os.environ['PYTHONPATH'] = f'{pwd}'"
   ]
  },
  {
   "cell_type": "code",
   "execution_count": 17,
   "id": "df6145da-88c7-4326-bea9-0275c29328a1",
   "metadata": {},
   "outputs": [],
   "source": [
    "import glob\n",
    "import torch\n",
    "import torch.nn as nn\n",
    "from torch.utils.data import Dataset, DataLoader\n",
    "import numpy as np\n",
    "import math\n",
    "from Bio import SeqIO  # for file parsing"
   ]
  },
  {
   "cell_type": "code",
   "execution_count": 47,
   "id": "123a8d2f-3ca4-4324-82f2-42438caaef16",
   "metadata": {},
   "outputs": [
    {
     "name": "stdout",
     "output_type": "stream",
     "text": [
      "[1, 0, 1, 2, 3, 4, 5, 6, 7, 8, 9, 10, 11, 12, 13, 14, 15, 16, 17, 18, 19, 20, 21, 22, 23, 24, 25, 2]\n"
     ]
    }
   ],
   "source": [
    "from multimolecule import RnaTokenizer\n",
    "tokenizer = RnaTokenizer(nmers = 1)\n",
    "print(tokenizer('<pad><cls><eos><unk><mask><null>ACGUNRYSWKMBDHV.X*-I')[\"input_ids\"])"
   ]
  },
  {
   "cell_type": "code",
   "execution_count": 8,
   "id": "aeef59b3-d672-434c-9936-713270fde5e7",
   "metadata": {},
   "outputs": [],
   "source": [
    "import torch\n",
    "from torch.utils.data import Dataset, DataLoader\n",
    "from transformers import (\n",
    "    BertConfig,\n",
    "    BertForMaskedLM,\n",
    "    DataCollatorForLanguageModeling,\n",
    "    Trainer,\n",
    "    TrainingArguments,\n",
    ")\n",
    "import random\n",
    "import numpy as np\n",
    "from transformers.trainer_utils import get_last_checkpoint"
   ]
  },
  {
   "cell_type": "markdown",
   "id": "fb09a771-ee00-4bf6-842b-8d2be2b9bb5b",
   "metadata": {},
   "source": [
    "# BERT config for RNA-seq encoder"
   ]
  },
  {
   "cell_type": "code",
   "execution_count": 40,
   "id": "83e262ea-38ed-4674-ab4a-0cdb35e4ca20",
   "metadata": {},
   "outputs": [
    {
     "name": "stdout",
     "output_type": "stream",
     "text": [
      "\n",
      "Model initialized with 99,520,026 parameters.\n"
     ]
    }
   ],
   "source": [
    "from transformers import BertConfig, AutoModelForMaskedLM\n",
    "\n",
    "config = BertConfig(\n",
    "    vocab_size=tokenizer.vocab_size,\n",
    "    hidden_size=640,               # match RNA-FM\n",
    "    num_hidden_layers=12,\n",
    "    num_attention_heads=20,\n",
    "    intermediate_size=5120,\n",
    "    max_position_embeddings=1024,  # cap at 1024 tokens total (incl. specials)\n",
    "    type_vocab_size=1,             # no token type (segment) embeddings needed\n",
    "    pad_token_id=tokenizer.pad_token_id,\n",
    "    hidden_act=\"gelu\",\n",
    "    hidden_dropout_prob=0.1,\n",
    "    attention_probs_dropout_prob=0.1,\n",
    "    layer_norm_eps=1e-12,\n",
    "    initializer_range=0.02,\n",
    "    position_embedding_type=\"absolute\",\n",
    "    # tie_word_embeddings (defaults to True in HF PreTrainedModel; keeps logits softmax tied to input embeddings)\n",
    ")\n",
    "\n",
    "model = AutoModelForMaskedLM.from_config(config)  # constructs a BertForMaskedLM\n",
    "\n",
    "print(f\"\\nModel initialized with {model.num_parameters():,} parameters.\")"
   ]
  },
  {
   "cell_type": "code",
   "execution_count": 41,
   "id": "03352166-52d0-4a48-bc1e-f6c53b1b62cf",
   "metadata": {},
   "outputs": [],
   "source": [
    "data_dir = f\"rnaseq_data\""
   ]
  },
  {
   "cell_type": "code",
   "execution_count": 42,
   "id": "0a6605b5-7131-4edc-bade-2ba67fd1c3fe",
   "metadata": {},
   "outputs": [
    {
     "name": "stdout",
     "output_type": "stream",
     "text": [
      "3\n"
     ]
    }
   ],
   "source": [
    "# load fasta data\n",
    "fasta_paths = glob.glob(f'{data_dir}/RF*.fasta')\n",
    "fasta_paths.sort()\n",
    "print(len(fasta_paths))"
   ]
  },
  {
   "cell_type": "markdown",
   "id": "b8202f1b-9cf2-47a4-bad6-c67a110e6cd5",
   "metadata": {},
   "source": [
    "# Loading sequence with 80k nucleotide sequence for SSL training"
   ]
  },
  {
   "cell_type": "code",
   "execution_count": 43,
   "id": "f35962d8-18a9-481b-8c6a-762c5b8c0ade",
   "metadata": {},
   "outputs": [
    {
     "name": "stdout",
     "output_type": "stream",
     "text": [
      "RF00001\n",
      "712 712\n"
     ]
    }
   ],
   "source": [
    "rfam_list = []  # list of RNA families\n",
    "\n",
    "seqs = []  # list of two-element tuples [(sequence ID, sequence),]\n",
    "labels = []  # list of labels correspond to each entry in the seqs list, the labels are the RNA families\n",
    "\n",
    "for i, fasta_path in enumerate(fasta_paths):\n",
    "\n",
    "    if i > 0:\n",
    "        break\n",
    "    rfam = Path(fasta_path).stem\n",
    "    rfam_list.append(rfam)\n",
    "    print(rfam)\n",
    "\n",
    "    records = list(SeqIO.parse(fasta_path, 'fasta'))\n",
    "    fasta_seqs = [str(record.seq) for record in records]\n",
    "    fasta_seq_names = [record.id for record in records]\n",
    "\n",
    "    seqs += [(seq_name, seq) for seq_name, seq in zip(fasta_seq_names, fasta_seqs)]\n",
    "    labels += [rfam] * len(fasta_seq_names)\n",
    "\n",
    "    print(len(seqs), len(labels))\n",
    "\n"
   ]
  },
  {
   "cell_type": "code",
   "execution_count": 44,
   "id": "ab2bded6-ef90-4a31-880d-5533e764c5ec",
   "metadata": {},
   "outputs": [
    {
     "name": "stdout",
     "output_type": "stream",
     "text": [
      "total # nucleotides =  83024\n"
     ]
    }
   ],
   "source": [
    "from datasets import Dataset\n",
    "texts = [s for _id, s in seqs]   # e.g., ['CUUGA...', 'UACGG...']\n",
    "\n",
    "\n",
    "count = 0 \n",
    "for text in texts:\n",
    "    count += len(list(text))\n",
    "print(\"total # nucleotides = \", count)\n",
    "\n",
    "# --- 3) Build a Dataset\n",
    "ds = Dataset.from_dict({\"text\": texts})\n",
    "\n",
    "# --- 4) Tokenize (truncate to RNA-FM's max length: 1024 tokens)\n",
    "def tok_fn(batch):\n",
    "    return tokenizer(\n",
    "        batch[\"text\"],\n",
    "        truncation=True,\n",
    "        max_length=500,\n",
    "        # no need to pad here; the collator will handle dynamic batch padding\n",
    "        return_special_tokens_mask=True,  # helps the collator avoid masking specials\n",
    "    )\n",
    "\n",
    "tokenized = ds.map(tok_fn, batched=True, remove_columns=[\"text\"])\n",
    "\n",
    "# --- 5) Data collator for MLM (applies 15% masking with BERT 80/10/10)\n",
    "data_collator = DataCollatorForLanguageModeling(\n",
    "    tokenizer=tokenizer,\n",
    "    mlm=True,\n",
    "    mlm_probability=0.20,\n",
    ")"
   ]
  },
  {
   "cell_type": "markdown",
   "id": "cf9c7a6b-544e-4d13-9396-c9d0c05a9644",
   "metadata": {},
   "source": [
    "## Setting up training config and trainer"
   ]
  },
  {
   "cell_type": "code",
   "execution_count": 45,
   "id": "6fc16b5d-a179-4a23-903a-4f078cadc99e",
   "metadata": {},
   "outputs": [],
   "source": [
    "training_args = TrainingArguments(\n",
    "    output_dir=\"./rnafm_mlm\",\n",
    "    per_device_train_batch_size=8,\n",
    "    num_train_epochs=8,\n",
    "    learning_rate=2e-5,\n",
    "    logging_steps=100,\n",
    "    save_steps=500,\n",
    "    save_total_limit=2,\n",
    "    report_to=\"none\",           # or \"tensorboard\"\n",
    "    fp16=False,                 # True if your GPU supports it\n",
    ")"
   ]
  },
  {
   "cell_type": "code",
   "execution_count": 46,
   "id": "949107df-b892-4f6e-87d8-8d46d7ed5461",
   "metadata": {},
   "outputs": [
    {
     "name": "stderr",
     "output_type": "stream",
     "text": [
      "/var/folders/cv/m_mlbprj1xvgxqc167y6qlkr0000gn/T/ipykernel_1422/3354683456.py:1: FutureWarning: `tokenizer` is deprecated and will be removed in version 5.0.0 for `Trainer.__init__`. Use `processing_class` instead.\n",
      "  trainer = Trainer(\n",
      "The tokenizer has new PAD/BOS/EOS tokens that differ from the model config and generation config. The model config and generation config were aligned accordingly, being updated with the tokenizer's values. Updated tokens: {'eos_token_id': 2, 'bos_token_id': 1}.\n",
      "/Users/saptorshighosh/myenv/lib/python3.9/site-packages/torch/utils/data/dataloader.py:683: UserWarning: 'pin_memory' argument is set as true but not supported on MPS now, then device pinned memory won't be used.\n",
      "  warnings.warn(warn_msg)\n"
     ]
    },
    {
     "data": {
      "text/html": [
       "\n",
       "    <div>\n",
       "      \n",
       "      <progress value='712' max='712' style='width:300px; height:20px; vertical-align: middle;'></progress>\n",
       "      [712/712 09:35, Epoch 8/8]\n",
       "    </div>\n",
       "    <table border=\"1\" class=\"dataframe\">\n",
       "  <thead>\n",
       " <tr style=\"text-align: left;\">\n",
       "      <th>Step</th>\n",
       "      <th>Training Loss</th>\n",
       "    </tr>\n",
       "  </thead>\n",
       "  <tbody>\n",
       "    <tr>\n",
       "      <td>100</td>\n",
       "      <td>1.220500</td>\n",
       "    </tr>\n",
       "    <tr>\n",
       "      <td>200</td>\n",
       "      <td>1.087600</td>\n",
       "    </tr>\n",
       "    <tr>\n",
       "      <td>300</td>\n",
       "      <td>1.045800</td>\n",
       "    </tr>\n",
       "    <tr>\n",
       "      <td>400</td>\n",
       "      <td>1.051700</td>\n",
       "    </tr>\n",
       "    <tr>\n",
       "      <td>500</td>\n",
       "      <td>1.047900</td>\n",
       "    </tr>\n",
       "    <tr>\n",
       "      <td>600</td>\n",
       "      <td>1.022200</td>\n",
       "    </tr>\n",
       "    <tr>\n",
       "      <td>700</td>\n",
       "      <td>1.019000</td>\n",
       "    </tr>\n",
       "  </tbody>\n",
       "</table><p>"
      ],
      "text/plain": [
       "<IPython.core.display.HTML object>"
      ]
     },
     "metadata": {},
     "output_type": "display_data"
    },
    {
     "name": "stderr",
     "output_type": "stream",
     "text": [
      "/Users/saptorshighosh/myenv/lib/python3.9/site-packages/torch/utils/data/dataloader.py:683: UserWarning: 'pin_memory' argument is set as true but not supported on MPS now, then device pinned memory won't be used.\n",
      "  warnings.warn(warn_msg)\n"
     ]
    },
    {
     "data": {
      "text/plain": [
       "TrainOutput(global_step=712, training_loss=1.0698299407958984, metrics={'train_runtime': 576.0845, 'train_samples_per_second': 9.887, 'train_steps_per_second': 1.236, 'total_flos': 415097340431136.0, 'train_loss': 1.0698299407958984, 'epoch': 8.0})"
      ]
     },
     "execution_count": 46,
     "metadata": {},
     "output_type": "execute_result"
    }
   ],
   "source": [
    "trainer = Trainer(\n",
    "    model=model,\n",
    "    args=training_args,\n",
    "    train_dataset=tokenized,\n",
    "    tokenizer=tokenizer,\n",
    "    data_collator=data_collator,\n",
    ")\n",
    "\n",
    "trainer.train()"
   ]
  },
  {
   "cell_type": "code",
   "execution_count": 39,
   "id": "77aba264-23b3-4db6-8dbf-cc4b3bde4669",
   "metadata": {},
   "outputs": [
    {
     "data": {
      "text/plain": [
       "Dataset({\n",
       "    features: ['text'],\n",
       "    num_rows: 712\n",
       "})"
      ]
     },
     "execution_count": 39,
     "metadata": {},
     "output_type": "execute_result"
    }
   ],
   "source": [
    "ds"
   ]
  }
 ],
 "metadata": {
  "kernelspec": {
   "display_name": "Python 3 (ipykernel)",
   "language": "python",
   "name": "python3"
  },
  "language_info": {
   "codemirror_mode": {
    "name": "ipython",
    "version": 3
   },
   "file_extension": ".py",
   "mimetype": "text/x-python",
   "name": "python",
   "nbconvert_exporter": "python",
   "pygments_lexer": "ipython3",
   "version": "3.9.6"
  }
 },
 "nbformat": 4,
 "nbformat_minor": 5
}
